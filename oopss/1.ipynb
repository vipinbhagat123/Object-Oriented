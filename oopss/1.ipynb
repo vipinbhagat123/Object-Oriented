{
 "cells": [
  {
   "cell_type": "code",
   "execution_count": 4,
   "metadata": {},
   "outputs": [
    {
     "name": "stdout",
     "output_type": "stream",
     "text": [
      "<class '__main__.car'>\n",
      "<__main__.car object at 0x000001E7D3D38170>\n"
     ]
    }
   ],
   "source": [
    "# A class is a blue print for creating objects. Attributes , methods\n",
    "\n",
    "class car:\n",
    "    pass\n",
    "\n",
    "audi=car()\n",
    "bmw=car()\n",
    "\n",
    "print(type(audi)) \n",
    "\n",
    "print(audi) # it show object"
   ]
  },
  {
   "cell_type": "code",
   "execution_count": 13,
   "metadata": {},
   "outputs": [
    {
     "name": "stdout",
     "output_type": "stream",
     "text": [
      "<__main__.Dog object at 0x000001E7D4A023C0>\n",
      "Buddy\n",
      "3\n"
     ]
    },
    {
     "data": {
      "text/plain": [
       "\"'\\nThis code defines a class named Dog in Python, which demonstrates the Object-Oriented Programming (OOP) concepts of classes, objects, constructors, and instance variables.\\n\\nExplanation:\\nClass Definition:\\n\\npython Copy code\\n\\nclass Dog:\\n\\nA class is a blueprint for creating objects.\\n\\nThe Dog class is defined with an initializer method (__init__) to set up its instance variables.\\n\\nConstructor (__init__ method):\\n\\npython Copy code\\n\\ndef __init__(self, name, age):\\n    self.name = name\\n    self.age = age\\n\\nThe __init__ method is a constructor that gets called automatically when an object is created.\\n\\nIt initializes the object's attributes. In this case, the Dog class has two attributes:\\n\\nname: The name of the dog.\\n\\nage: The age of the dog.\\n\\nself refers to the current instance of the class. It is used to access instance variables and methods.\\n\\nInstance Variables:\\n\\nself.name and self.age are instance variables.\\n\\nThey are unique to each object created from the Dog class and store the specific data for that object.\\nObject Creation:\\n\\npython Copy code\\n\\ndog1 = Dog('Buddy', 3)\\n\\nAn object dog1 is created from the Dog class.\\n\\nThe arguments 'Buddy' and 3 are passed to the __init__ method, which assigns:\\n\\nself.name = 'Buddy'\\nself.age = 3\\n\\nAccessing Object Attributes:\\n\\npython Copy code\\n\\nprint(dog1.name)  # Output: Buddy\\nprint(dog1.age)   # Output: 3\\n\\nThe object's attributes (name and age) are accessed using dot notation (dog1.name and dog1.age).\\nPrinting the Object:\\n\\npython Copy code\\n\\nprint(dog1)  # Output: <__main__.Dog object at 0x...>\\n\\nBy default, when you print an object, it shows a string representation that includes the memory address of the object unless a custom __str__ or __repr__ method is defined.\\n\\nSummary of OOP Concepts in This Code:\\n\\nClass: Defines the blueprint for the objects (e.g., Dog).\\n\\nObject: An instance of the class (e.g., dog1).\\n\\nConstructor (__init__): Initializes the instance variables when an object is created.\\n\\nInstance Variables: Store data unique to each object (e.g., name, age for each Dog object).\\n\\nDot Notation: Used to access an object's attributes or methods (e.g., dog1.name).\\n\\nIf you have any questions or need further clarification, feel free to ask! 😊\\n\\n\\n\\n\\n\\n\\n\""
      ]
     },
     "execution_count": 13,
     "metadata": {},
     "output_type": "execute_result"
    }
   ],
   "source": [
    "# Instance Variable And Methods\n",
    "\n",
    "class Dog:\n",
    "    # Constructor\n",
    "    def __init__(self, name, age):\n",
    "        self.name=name\n",
    "        self.age=age\n",
    "\n",
    "# create objects\n",
    "dog1=Dog('Buddy', 3)\n",
    "print(dog1)\n",
    "print(dog1.name)\n",
    "print(dog1.age)\n",
    "\n",
    "\n",
    "''''\n",
    "This code defines a class named Dog in Python, which demonstrates the Object-Oriented Programming (OOP) concepts of classes, objects, constructors, and instance variables.\n",
    "\n",
    "Explanation:\n",
    "Class Definition:\n",
    "\n",
    "python Copy code\n",
    "\n",
    "class Dog:\n",
    "\n",
    "A class is a blueprint for creating objects.\n",
    "\n",
    "The Dog class is defined with an initializer method (__init__) to set up its instance variables.\n",
    "\n",
    "Constructor (__init__ method):\n",
    "\n",
    "python Copy code\n",
    "\n",
    "def __init__(self, name, age):\n",
    "    self.name = name\n",
    "    self.age = age\n",
    "\n",
    "The __init__ method is a constructor that gets called automatically when an object is created.\n",
    "\n",
    "It initializes the object's attributes. In this case, the Dog class has two attributes:\n",
    "\n",
    "name: The name of the dog.\n",
    "\n",
    "age: The age of the dog.\n",
    "\n",
    "self refers to the current instance of the class. It is used to access instance variables and methods.\n",
    "\n",
    "Instance Variables:\n",
    "\n",
    "self.name and self.age are instance variables.\n",
    "\n",
    "They are unique to each object created from the Dog class and store the specific data for that object.\n",
    "Object Creation:\n",
    "\n",
    "python Copy code\n",
    "\n",
    "dog1 = Dog('Buddy', 3)\n",
    "\n",
    "An object dog1 is created from the Dog class.\n",
    "\n",
    "The arguments 'Buddy' and 3 are passed to the __init__ method, which assigns:\n",
    "\n",
    "self.name = 'Buddy'\n",
    "self.age = 3\n",
    "\n",
    "Accessing Object Attributes:\n",
    "\n",
    "python Copy code\n",
    "\n",
    "print(dog1.name)  # Output: Buddy\n",
    "print(dog1.age)   # Output: 3\n",
    "\n",
    "The object's attributes (name and age) are accessed using dot notation (dog1.name and dog1.age).\n",
    "Printing the Object:\n",
    "\n",
    "python Copy code\n",
    "\n",
    "print(dog1)  # Output: <__main__.Dog object at 0x...>\n",
    "\n",
    "By default, when you print an object, it shows a string representation that includes the memory address of the object unless a custom __str__ or __repr__ method is defined.\n",
    "\n",
    "Summary of OOP Concepts in This Code:\n",
    "\n",
    "Class: Defines the blueprint for the objects (e.g., Dog).\n",
    "\n",
    "Object: An instance of the class (e.g., dog1).\n",
    "\n",
    "Constructor (__init__): Initializes the instance variables when an object is created.\n",
    "\n",
    "Instance Variables: Store data unique to each object (e.g., name, age for each Dog object).\n",
    "\n",
    "Dot Notation: Used to access an object's attributes or methods (e.g., dog1.name).\n",
    "\n",
    "If you have any questions or need further clarification, feel free to ask! 😊\n",
    "\n",
    "\n",
    "\n",
    "\n",
    "\n",
    "\n",
    "'''\n"
   ]
  },
  {
   "cell_type": "code",
   "execution_count": 15,
   "metadata": {},
   "outputs": [
    {
     "name": "stdout",
     "output_type": "stream",
     "text": [
      "<__main__.Dog object at 0x000001E7D447AFC0>\n",
      "Buddy\n",
      "3\n"
     ]
    }
   ],
   "source": [
    "dog2=Dog(\"Buddy\", 3)\n",
    "print(dog2)\n",
    "print(dog2.name)\n",
    "print(dog2.age)"
   ]
  },
  {
   "cell_type": "code",
   "execution_count": 18,
   "metadata": {},
   "outputs": [
    {
     "name": "stdout",
     "output_type": "stream",
     "text": [
      "Buddy says woof\n",
      "Luch says woof\n"
     ]
    },
    {
     "data": {
      "text/plain": [
       "'\\nThis code introduces instance methods within a class, showcasing another important aspect of Object-Oriented Programming (OOP). Here\\'s a detailed explanation:\\n\\nCode Explanation\\nClass Definition\\n\\npython Copy code\\n\\nclass Dog:\\n\\nThe class Dog is defined, serving as a blueprint for creating Dog objects. It contains:\\n\\nA constructor (__init__ method) to initialize instance variables.\\n\\nAn instance method (bark) to define behavior for Dog objects.\\n\\nConstructor\\n\\npython Copy code\\n    def __init__(self, name, age):\\n        self.name = name\\n        self.age = age\\n\\n\\nThe __init__ method is the constructor that initializes each object’s unique attributes (name and age).\\n\\nParameters:\\n\\nname: The dog\\'s name.\\nage: The dog\\'s age.\\n\\nThe self keyword refers to the current object and is used to assign these values to instance variables (self.name and self.age).\\n\\nInstance Method\\n\\npython Copy code\\n    def bark(self):\\n        print(f\"{self.name} says woof\")\\n\\nThe bark method is an instance method:\\n\\nIt is defined inside the class.\\n\\nIt uses the self parameter to access the attributes of the specific object calling it.\\n\\nIt prints a message with the dog\\'s name, followed by \"says woof.\"\\n\\nObject Creation\\n\\npython Copy code\\n\\ndog1 = Dog(\\'Buddy\\', 2)\\n\\nA new object dog1 of class Dog is created with:\\n\\nself.name = \\'Buddy\\'\\nself.age = 2\\n\\n\\npython Copy code\\n\\ndog2 = Dog(\\'Luch\\', 343)\\n\\nA second object dog2 is created with:\\n\\nself.name = \\'Luch\\'\\nself.age = 343\\n\\nCalling an Instance Method\\n\\npython Copy code\\n\\ndog1.bark()  # Output: Buddy says woof\\ndog2.bark()  # Output: Luch says woof\\n\\nThe bark method is called using dot notation (dog1.bark() and dog2.bark()).\\n\\nThe self keyword ensures that the method acts on the object it is called on, producing output specific to dog1 and dog2.\\n\\nOOP Concepts Demonstrated\\n\\nClass:\\nA blueprint for creating objects (e.g., Dog).\\n\\nObject:\\n\\nInstances of the class (e.g., dog1, dog2).\\n\\nConstructor (__init__ Method):\\n\\nInitializes instance variables (name and age) when an object is created.\\n\\nInstance Variables:\\nStore object-specific data (e.g., dog1.name, dog2.age).\\n\\nInstance Method:\\nDefined inside the class and operates on an object\\'s data using self.\\nThe bark method provides behavior for Dog objects.\\n\\nDot Notation:\\nUsed to access methods or attributes of an object (e.g., dog1.bark()).\\n\\n\\n## Summary of Behavior\\n\\nEncapsulation: The Dog class encapsulates both data (attributes like name and age) and behavior (methods like bark).\\n\\nInstance-Specific Behavior: The bark method uses instance data (self.name) to produce unique outputs for each object.\\n\\nReusability: The Dog class can create multiple objects, each with unique data and the same behavior.\\n\\n\\n'"
      ]
     },
     "execution_count": 18,
     "metadata": {},
     "output_type": "execute_result"
    }
   ],
   "source": [
    "## Define a class with instance methods\n",
    "\n",
    "class Dog:\n",
    "    def __init__(self, name, age):\n",
    "        self.name=name\n",
    "        self.age=age\n",
    "    \n",
    "    def bark(self):\n",
    "        print(f\"{self.name} says woof\")\n",
    "\n",
    "dog1=Dog('Buddy', 2)\n",
    "dog1.bark()\n",
    "dog2=Dog('Luch', 343)\n",
    "dog2.bark()\n",
    "\n",
    "\n",
    "'''\n",
    "This code introduces instance methods within a class, showcasing another important aspect of Object-Oriented Programming (OOP). Here's a detailed explanation:\n",
    "\n",
    "Code Explanation\n",
    "Class Definition\n",
    "\n",
    "python Copy code\n",
    "\n",
    "class Dog:\n",
    "\n",
    "The class Dog is defined, serving as a blueprint for creating Dog objects. It contains:\n",
    "\n",
    "A constructor (__init__ method) to initialize instance variables.\n",
    "\n",
    "An instance method (bark) to define behavior for Dog objects.\n",
    "\n",
    "Constructor\n",
    "\n",
    "python Copy code\n",
    "    def __init__(self, name, age):\n",
    "        self.name = name\n",
    "        self.age = age\n",
    "\n",
    "\n",
    "The __init__ method is the constructor that initializes each object’s unique attributes (name and age).\n",
    "\n",
    "Parameters:\n",
    "\n",
    "name: The dog's name.\n",
    "age: The dog's age.\n",
    "\n",
    "The self keyword refers to the current object and is used to assign these values to instance variables (self.name and self.age).\n",
    "\n",
    "Instance Method\n",
    "\n",
    "python Copy code\n",
    "    def bark(self):\n",
    "        print(f\"{self.name} says woof\")\n",
    "\n",
    "The bark method is an instance method:\n",
    "\n",
    "It is defined inside the class.\n",
    "\n",
    "It uses the self parameter to access the attributes of the specific object calling it.\n",
    "\n",
    "It prints a message with the dog's name, followed by \"says woof.\"\n",
    "\n",
    "Object Creation\n",
    "\n",
    "python Copy code\n",
    "\n",
    "dog1 = Dog('Buddy', 2)\n",
    "\n",
    "A new object dog1 of class Dog is created with:\n",
    "\n",
    "self.name = 'Buddy'\n",
    "self.age = 2\n",
    "\n",
    "\n",
    "python Copy code\n",
    "\n",
    "dog2 = Dog('Luch', 343)\n",
    "\n",
    "A second object dog2 is created with:\n",
    "\n",
    "self.name = 'Luch'\n",
    "self.age = 343\n",
    "\n",
    "Calling an Instance Method\n",
    "\n",
    "python Copy code\n",
    "\n",
    "dog1.bark()  # Output: Buddy says woof\n",
    "dog2.bark()  # Output: Luch says woof\n",
    "\n",
    "The bark method is called using dot notation (dog1.bark() and dog2.bark()).\n",
    "\n",
    "The self keyword ensures that the method acts on the object it is called on, producing output specific to dog1 and dog2.\n",
    "\n",
    "OOP Concepts Demonstrated\n",
    "\n",
    "Class:\n",
    "A blueprint for creating objects (e.g., Dog).\n",
    "\n",
    "Object:\n",
    "\n",
    "Instances of the class (e.g., dog1, dog2).\n",
    "\n",
    "Constructor (__init__ Method):\n",
    "\n",
    "Initializes instance variables (name and age) when an object is created.\n",
    "\n",
    "Instance Variables:\n",
    "Store object-specific data (e.g., dog1.name, dog2.age).\n",
    "\n",
    "Instance Method:\n",
    "Defined inside the class and operates on an object's data using self.\n",
    "The bark method provides behavior for Dog objects.\n",
    "\n",
    "Dot Notation:\n",
    "Used to access methods or attributes of an object (e.g., dog1.bark()).\n",
    "\n",
    "\n",
    "## Summary of Behavior\n",
    "\n",
    "Encapsulation: The Dog class encapsulates both data (attributes like name and age) and behavior (methods like bark).\n",
    "\n",
    "Instance-Specific Behavior: The bark method uses instance data (self.name) to produce unique outputs for each object.\n",
    "\n",
    "Reusability: The Dog class can create multiple objects, each with unique data and the same behavior.\n",
    "\n",
    "\n",
    "'''"
   ]
  },
  {
   "cell_type": "code",
   "execution_count": 26,
   "metadata": {},
   "outputs": [
    {
     "name": "stdout",
     "output_type": "stream",
     "text": [
      "3000\n"
     ]
    }
   ],
   "source": [
    "class bankaccount:\n",
    "    def __init__(self, owner, balance=0):\n",
    "        self.owner=owner\n",
    "        self.balance=balance\n",
    "    \n",
    "    def deposit(self, amount):\n",
    "        self.balance+=amount\n",
    "        print(f\"{amount} is deposited. New balance is {self.balance} \")\n",
    "\n",
    "    def withdraw(self, amount):\n",
    "        if amount>self.balance:\n",
    "            print('Insufficient balance')\n",
    "        else:\n",
    "            self.balance-=amount\n",
    "            print(f'{amount} is withdraw. New balance is {self.balance}')\n",
    "\n",
    "    def getbalance(self):\n",
    "        return self.balance\n",
    "    \n",
    "##create account\n",
    "\n",
    "ac=bankaccount('krish', 3000)\n",
    "print(ac.balance)"
   ]
  },
  {
   "cell_type": "code",
   "execution_count": 27,
   "metadata": {},
   "outputs": [
    {
     "name": "stdout",
     "output_type": "stream",
     "text": [
      "100 is deposited. New balance is 3100 \n",
      "None\n"
     ]
    }
   ],
   "source": [
    "print(ac.deposit(100))"
   ]
  },
  {
   "cell_type": "code",
   "execution_count": 28,
   "metadata": {},
   "outputs": [
    {
     "name": "stdout",
     "output_type": "stream",
     "text": [
      "Insufficient balance\n",
      "None\n"
     ]
    }
   ],
   "source": [
    "print(ac.withdraw(10000))"
   ]
  },
  {
   "cell_type": "code",
   "execution_count": 29,
   "metadata": {},
   "outputs": [
    {
     "name": "stdout",
     "output_type": "stream",
     "text": [
      "10 is withdraw. New balance is 3090\n",
      "None\n"
     ]
    }
   ],
   "source": [
    "print(ac.withdraw(10))"
   ]
  },
  {
   "cell_type": "code",
   "execution_count": null,
   "metadata": {},
   "outputs": [],
   "source": []
  }
 ],
 "metadata": {
  "kernelspec": {
   "display_name": "Python 3",
   "language": "python",
   "name": "python3"
  },
  "language_info": {
   "codemirror_mode": {
    "name": "ipython",
    "version": 3
   },
   "file_extension": ".py",
   "mimetype": "text/x-python",
   "name": "python",
   "nbconvert_exporter": "python",
   "pygments_lexer": "ipython3",
   "version": "3.12.8"
  }
 },
 "nbformat": 4,
 "nbformat_minor": 2
}
