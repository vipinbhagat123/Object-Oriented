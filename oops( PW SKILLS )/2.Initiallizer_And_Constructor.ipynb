{
 "cells": [
  {
   "cell_type": "code",
   "execution_count": null,
   "id": "fbac630f",
   "metadata": {},
   "outputs": [],
   "source": []
  },
  {
   "cell_type": "code",
   "execution_count": 2,
   "id": "49528562",
   "metadata": {},
   "outputs": [
    {
     "name": "stdout",
     "output_type": "stream",
     "text": [
      "Vishwa\n",
      "Shivani\n"
     ]
    }
   ],
   "source": [
    "class Person :\n",
    "  #initializer/constructor for objects\n",
    "  def __init__(self, name, age):\n",
    "    self.name= name\n",
    "    self.age = age\n",
    "\n",
    "per1 = Person(\"Vishwa\", 99)\n",
    "\n",
    "per2 = Person(\"Shivani\", 97)\n",
    "\n",
    "\n",
    "print(per1.name)\n",
    "print(per2.name)\n",
    "\n"
   ]
  },
  {
   "cell_type": "code",
   "execution_count": 4,
   "id": "d6ef33dc",
   "metadata": {},
   "outputs": [
    {
     "name": "stdout",
     "output_type": "stream",
     "text": [
      "Vishwa Mohan\n"
     ]
    }
   ],
   "source": [
    "class Person :\n",
    "    def __init__(self, name, age):\n",
    "        self.name = name\n",
    "        self.age = age\n",
    "    def __init__(self, name):\n",
    "        self.name = name\n",
    "#per= Person(\"Vishwa Mohan\", 99) # it will not get the ouptput because only the last __init__ method will be executed\n",
    "per = Person(\"Vishwa Mohan\")\n",
    "print(per.name)\n"
   ]
  },
  {
   "cell_type": "code",
   "execution_count": 5,
   "id": "cce825bd",
   "metadata": {},
   "outputs": [
    {
     "name": "stdout",
     "output_type": "stream",
     "text": [
      "Cricket\n",
      "Football\n"
     ]
    }
   ],
   "source": [
    "class Person :\n",
    "  def __init__(self, name, age=99, hobby=\"Cricket\"):\n",
    "    self.name = name\n",
    "    self.age = age\n",
    "    self.hobby= hobby\n",
    "\n",
    "\n",
    "per1 = Person(\"Vishwa\")\n",
    "per2 = Person(\"Vishwa\", 56)\n",
    "per3 = Person(\"Vishwa\", 43,\"Football\")\n",
    "\n",
    "print(per1.hobby)\n",
    "print(per3.hobby)"
   ]
  },
  {
   "cell_type": "code",
   "execution_count": 6,
   "id": "3206ec35",
   "metadata": {},
   "outputs": [
    {
     "name": "stdout",
     "output_type": "stream",
     "text": [
      "Vishwa India\n",
      "Shweta India\n",
      "India\n"
     ]
    }
   ],
   "source": [
    "class Person :\n",
    "  country = \"India\"\n",
    "  def __init__(self, name , age):\n",
    "    self.name = name\n",
    "    self.age = age\n",
    "\n",
    "per1 = Person(\"Vishwa\", 99)\n",
    "per2 = Person(\"Shweta\", 73)\n",
    "\n",
    "print(per1.name,per1.country)\n",
    "print(per2.name, per2.country)\n",
    "\n",
    "\n",
    "print(Person.country)"
   ]
  },
  {
   "cell_type": "code",
   "execution_count": null,
   "id": "8a3bc16e",
   "metadata": {},
   "outputs": [],
   "source": []
  },
  {
   "cell_type": "code",
   "execution_count": null,
   "id": "96a17ff0",
   "metadata": {},
   "outputs": [],
   "source": []
  }
 ],
 "metadata": {
  "kernelspec": {
   "display_name": "Python 3",
   "language": "python",
   "name": "python3"
  },
  "language_info": {
   "codemirror_mode": {
    "name": "ipython",
    "version": 3
   },
   "file_extension": ".py",
   "mimetype": "text/x-python",
   "name": "python",
   "nbconvert_exporter": "python",
   "pygments_lexer": "ipython3",
   "version": "3.12.10"
  }
 },
 "nbformat": 4,
 "nbformat_minor": 5
}
