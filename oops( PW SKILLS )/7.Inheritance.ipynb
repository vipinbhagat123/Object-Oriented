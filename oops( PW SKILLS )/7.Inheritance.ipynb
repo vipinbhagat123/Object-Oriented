{
 "cells": [
  {
   "cell_type": "code",
   "execution_count": 3,
   "id": "6e83d082",
   "metadata": {},
   "outputs": [
    {
     "name": "stdout",
     "output_type": "stream",
     "text": [
      "doganimal is eating\n",
      "dog\n",
      "bulldog\n"
     ]
    }
   ],
   "source": [
    "class Animal:\n",
    "    def __init__(self, name):\n",
    "        self.name = name\n",
    "    \n",
    "    def eat(self):\n",
    "        print(self.name + 'animal is eating')\n",
    "\n",
    "class Dog(Animal):\n",
    "    def __init__(self, name, type):\n",
    "        Animal.__init__(self, name)\n",
    "        self.type = type\n",
    "\n",
    "    def getTheNameOfDog(self):\n",
    "        print(self.name)\n",
    "        print(self.type)\n",
    "\n",
    "dog = Dog('dog', 'bulldog') \n",
    "dog.eat()\n",
    "dog.getTheNameOfDog()"
   ]
  },
  {
   "cell_type": "code",
   "execution_count": 6,
   "id": "b6c9a1ed",
   "metadata": {},
   "outputs": [
    {
     "name": "stdout",
     "output_type": "stream",
     "text": [
      "Child Property  99\n",
      "Parent property 90\n",
      "Child eating\n",
      "Parent is eating\n"
     ]
    }
   ],
   "source": [
    "# Access the parent properties\n",
    "\n",
    "class Parent:\n",
    "    property = 90\n",
    "\n",
    "    def eat(self):\n",
    "        print(\"Parent is eating\")\n",
    "\n",
    "class Child(Parent):\n",
    "    property = 99\n",
    "\n",
    "    def display(self):\n",
    "        print(\"Child Property \", self.property)\n",
    "        print(\"Parent property\", super().property)\n",
    "\n",
    "    def eat(self):\n",
    "        print(\"Child eating\")\n",
    "    \n",
    "    def callEat(self):\n",
    "        self.eat()\n",
    "        super().eat()\n",
    "obj = Child()\n",
    "obj.display()\n",
    "obj.callEat()"
   ]
  },
  {
   "cell_type": "code",
   "execution_count": 7,
   "id": "ec21280e",
   "metadata": {},
   "outputs": [
    {
     "name": "stdout",
     "output_type": "stream",
     "text": [
      "Moti Animal is eating \n",
      "Moti\n"
     ]
    }
   ],
   "source": [
    "# Using super for calling the parent initiallizer\n",
    "\n",
    "class Animal:\n",
    "    def __init__(self, name):\n",
    "        self.name = name\n",
    "    \n",
    "    def eat(self):\n",
    "        print(self.name + ' Animal is eating ')\n",
    "\n",
    "class Dog(Animal):\n",
    "    def __init__(self, name, type):\n",
    "        # Call the constructor/initiallizor of Animal class\n",
    "        # Animal.__init__(self, naame)\n",
    "\n",
    "        super().__init__(name)\n",
    "        self.type = type\n",
    "    \n",
    "    def getTheNameOfDog(self):\n",
    "        print(self.name)\n",
    "dog = Dog(\"Moti\", \"Dobberman\")\n",
    "dog.eat()\n",
    "dog.getTheNameOfDog()\n"
   ]
  },
  {
   "cell_type": "code",
   "execution_count": 8,
   "id": "cfca61d5",
   "metadata": {},
   "outputs": [],
   "source": [
    "# Types of inheritance\n",
    "\n",
    "# Single Inheritance\n",
    "\n",
    "class Animal:\n",
    "    def __init__(self, name):\n",
    "        self.name = name\n",
    "    \n",
    "    def eat(self):\n",
    "        print(\"Animal is eating\")\n",
    "\n",
    "class Dog(Animal):\n",
    "    def __init__(self, name):\n",
    "        suepr().__init__(name)\n",
    "        self.type = type"
   ]
  },
  {
   "cell_type": "code",
   "execution_count": null,
   "id": "b03e56b1",
   "metadata": {},
   "outputs": [],
   "source": []
  },
  {
   "cell_type": "code",
   "execution_count": null,
   "id": "68fe106f",
   "metadata": {},
   "outputs": [],
   "source": []
  },
  {
   "cell_type": "code",
   "execution_count": null,
   "id": "33f0e460",
   "metadata": {},
   "outputs": [],
   "source": []
  },
  {
   "cell_type": "code",
   "execution_count": null,
   "id": "914ee2bf",
   "metadata": {},
   "outputs": [],
   "source": []
  },
  {
   "cell_type": "code",
   "execution_count": null,
   "id": "08a6ddd6",
   "metadata": {},
   "outputs": [],
   "source": []
  },
  {
   "cell_type": "code",
   "execution_count": null,
   "id": "b45475c2",
   "metadata": {},
   "outputs": [],
   "source": []
  },
  {
   "cell_type": "code",
   "execution_count": null,
   "id": "516e30b2",
   "metadata": {},
   "outputs": [],
   "source": []
  },
  {
   "cell_type": "code",
   "execution_count": null,
   "id": "9661a98b",
   "metadata": {},
   "outputs": [],
   "source": []
  },
  {
   "cell_type": "code",
   "execution_count": null,
   "id": "469122c3",
   "metadata": {},
   "outputs": [],
   "source": []
  }
 ],
 "metadata": {
  "kernelspec": {
   "display_name": "Python 3",
   "language": "python",
   "name": "python3"
  },
  "language_info": {
   "codemirror_mode": {
    "name": "ipython",
    "version": 3
   },
   "file_extension": ".py",
   "mimetype": "text/x-python",
   "name": "python",
   "nbconvert_exporter": "python",
   "pygments_lexer": "ipython3",
   "version": "3.13.2"
  }
 },
 "nbformat": 4,
 "nbformat_minor": 5
}
