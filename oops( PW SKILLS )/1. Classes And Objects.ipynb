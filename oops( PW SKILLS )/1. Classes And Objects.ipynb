{
 "cells": [
  {
   "cell_type": "code",
   "execution_count": 2,
   "id": "92e00e2f",
   "metadata": {},
   "outputs": [
    {
     "name": "stdout",
     "output_type": "stream",
     "text": [
      "<class '__main__.Person'>\n",
      "<__main__.Person object at 0x00000251FF11BB60>\n"
     ]
    }
   ],
   "source": [
    "class Person:\n",
    "    pass\n",
    "\n",
    "obj = Person()\n",
    "print(type(obj))\n",
    "print((obj))"
   ]
  },
  {
   "cell_type": "code",
   "execution_count": 4,
   "id": "dc1c0301",
   "metadata": {},
   "outputs": [
    {
     "name": "stdout",
     "output_type": "stream",
     "text": [
      "Vishwa\n",
      "99\n"
     ]
    }
   ],
   "source": [
    "class Person:\n",
    "    name = 'Vishwa'\n",
    "    age = 99\n",
    "\n",
    "per = Person()\n",
    "print(per.name)\n",
    "print(per.age)"
   ]
  },
  {
   "cell_type": "code",
   "execution_count": 5,
   "id": "e9984a68",
   "metadata": {},
   "outputs": [
    {
     "name": "stdout",
     "output_type": "stream",
     "text": [
      "Babu\n"
     ]
    }
   ],
   "source": [
    "per.hobby = 'Cricket'\n",
    "per.loveName = 'Babu'\n",
    "print(per.loveName)"
   ]
  },
  {
   "cell_type": "code",
   "execution_count": null,
   "id": "97ecade0",
   "metadata": {},
   "outputs": [],
   "source": []
  }
 ],
 "metadata": {
  "kernelspec": {
   "display_name": "Python 3",
   "language": "python",
   "name": "python3"
  },
  "language_info": {
   "codemirror_mode": {
    "name": "ipython",
    "version": 3
   },
   "file_extension": ".py",
   "mimetype": "text/x-python",
   "name": "python",
   "nbconvert_exporter": "python",
   "pygments_lexer": "ipython3",
   "version": "3.12.10"
  }
 },
 "nbformat": 4,
 "nbformat_minor": 5
}
