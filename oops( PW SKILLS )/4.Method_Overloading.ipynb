{
 "cells": [
  {
   "cell_type": "code",
   "execution_count": 2,
   "id": "d35f3e47",
   "metadata": {},
   "outputs": [],
   "source": [
    "# class Calculator:\n",
    "#     def add(self, a, b):\n",
    "#         return a+b\n",
    "#     def add(self, a, b, c):           # This is explict method.\n",
    "#         return a+b+c\n",
    "# cal = Calculator()\n",
    "# print(cal.add(5, 6, 7))\n",
    "# print(cal.add(5, 6))"
   ]
  },
  {
   "cell_type": "code",
   "execution_count": 4,
   "id": "c6295e09",
   "metadata": {},
   "outputs": [
    {
     "name": "stdout",
     "output_type": "stream",
     "text": [
      "18\n",
      "11\n"
     ]
    }
   ],
   "source": [
    "# Implicit method overloading\n",
    "\n",
    "class Calculator:\n",
    "    def add(self, a, b, c=0):\n",
    "        return a+b+c\n",
    "cal = Calculator()\n",
    "print(cal.add(5,6,7))\n",
    "print(cal.add(5, 6))"
   ]
  },
  {
   "cell_type": "code",
   "execution_count": null,
   "id": "53b09d14",
   "metadata": {},
   "outputs": [],
   "source": []
  },
  {
   "cell_type": "code",
   "execution_count": null,
   "id": "88be3f61",
   "metadata": {},
   "outputs": [],
   "source": []
  },
  {
   "cell_type": "code",
   "execution_count": null,
   "id": "e4079da3",
   "metadata": {},
   "outputs": [],
   "source": []
  },
  {
   "cell_type": "code",
   "execution_count": null,
   "id": "33d63a60",
   "metadata": {},
   "outputs": [],
   "source": []
  },
  {
   "cell_type": "code",
   "execution_count": null,
   "id": "cb67bd2c",
   "metadata": {},
   "outputs": [],
   "source": []
  },
  {
   "cell_type": "code",
   "execution_count": null,
   "id": "b1f74b00",
   "metadata": {},
   "outputs": [],
   "source": []
  }
 ],
 "metadata": {
  "kernelspec": {
   "display_name": "Python 3",
   "language": "python",
   "name": "python3"
  },
  "language_info": {
   "codemirror_mode": {
    "name": "ipython",
    "version": 3
   },
   "file_extension": ".py",
   "mimetype": "text/x-python",
   "name": "python",
   "nbconvert_exporter": "python",
   "pygments_lexer": "ipython3",
   "version": "3.12.10"
  }
 },
 "nbformat": 4,
 "nbformat_minor": 5
}
