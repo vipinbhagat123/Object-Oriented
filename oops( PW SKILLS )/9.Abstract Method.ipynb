{
 "cells": [
  {
   "cell_type": "code",
   "execution_count": 2,
   "id": "e5aa14aa",
   "metadata": {},
   "outputs": [
    {
     "name": "stdout",
     "output_type": "stream",
     "text": [
      "Bark\n"
     ]
    }
   ],
   "source": [
    "from abc import ABC, abstractmethod\n",
    "class Animal(ABC):\n",
    "    @abstractmethod\n",
    "    def sound(self):\n",
    "        pass\n",
    "class Dog(Animal):\n",
    "    def sound(self):\n",
    "        return \"Bark\"\n",
    "\n",
    "# Creating an object of the dog class\n",
    "dog = Dog()\n",
    "print(dog.sound())\n"
   ]
  },
  {
   "cell_type": "code",
   "execution_count": 4,
   "id": "f5e3a790",
   "metadata": {},
   "outputs": [
    {
     "name": "stdout",
     "output_type": "stream",
     "text": [
      "Kia engine started\n",
      "Kia engine is stopped\n",
      "Honda engine is started\n",
      "Honda engine stopped\n"
     ]
    }
   ],
   "source": [
    "from abc import ABC, abstractmethod\n",
    "class Car(ABC):\n",
    "    @abstractmethod\n",
    "    def start_engine(self):\n",
    "        pass\n",
    "    @abstractmethod\n",
    "    def stop_engine(self):\n",
    "        pass\n",
    "class kiar(Car):\n",
    "    def start_engine(self):\n",
    "        return \"Kia engine started\"\n",
    "    def stop_engine(self):\n",
    "        return \"Kia engine is stopped\"\n",
    "class Honda(Car):\n",
    "    def start_engine(self):\n",
    "        return \"Honda engine is started\" \n",
    "    def stop_engine(self):\n",
    "        return \"Honda engine stopped\"\n",
    "\n",
    "Kia = kiar()\n",
    "honda =Honda()\n",
    "print(Kia.start_engine())       \n",
    "print(Kia.stop_engine())      \n",
    "print(honda.start_engine())\n",
    "print(honda.stop_engine()) "
   ]
  },
  {
   "cell_type": "code",
   "execution_count": 5,
   "id": "52daf7de",
   "metadata": {},
   "outputs": [
    {
     "name": "stdout",
     "output_type": "stream",
     "text": [
      "Implementation of abstract_method1\n",
      "Implementation of abstract_method2\n"
     ]
    }
   ],
   "source": [
    "from abc import ABC, abstractmethod\n",
    "class MyABC(ABC):\n",
    "    @abstractmethod\n",
    "    def abstract_method1(self):\n",
    "        pass\n",
    "    def abstract_method2(self):\n",
    "        pass\n",
    "\n",
    "class ConcreteClass(MyABC):\n",
    "    def abstract_method1(self):\n",
    "        return \"Implementation of abstract_method1\"\n",
    "    def abstract_method2(self):\n",
    "        return \"Implementation of abstract_method2\"\n",
    "\n",
    "concrete = ConcreteClass()\n",
    "print(concrete.abstract_method1())\n",
    "print(concrete.abstract_method2())"
   ]
  },
  {
   "cell_type": "code",
   "execution_count": 7,
   "id": "b749d4ce",
   "metadata": {},
   "outputs": [
    {
     "name": "stdout",
     "output_type": "stream",
     "text": [
      "78.5\n"
     ]
    }
   ],
   "source": [
    "from abc import ABC, abstractmethod\n",
    "class shape(ABC):\n",
    "    @abstractmethod\n",
    "    def area(self):\n",
    "        pass\n",
    "class Circle(shape):\n",
    "    def __init__(self, radius):\n",
    "        self.radius = radius\n",
    "    def area(self):\n",
    "        return 3.14 * self.radius **2\n",
    "\n",
    "circle = Circle(5)\n",
    "print(circle.area())"
   ]
  },
  {
   "cell_type": "code",
   "execution_count": null,
   "id": "82497e77",
   "metadata": {},
   "outputs": [],
   "source": []
  }
 ],
 "metadata": {
  "kernelspec": {
   "display_name": "base",
   "language": "python",
   "name": "python3"
  },
  "language_info": {
   "codemirror_mode": {
    "name": "ipython",
    "version": 3
   },
   "file_extension": ".py",
   "mimetype": "text/x-python",
   "name": "python",
   "nbconvert_exporter": "python",
   "pygments_lexer": "ipython3",
   "version": "3.8.5"
  }
 },
 "nbformat": 4,
 "nbformat_minor": 5
}
