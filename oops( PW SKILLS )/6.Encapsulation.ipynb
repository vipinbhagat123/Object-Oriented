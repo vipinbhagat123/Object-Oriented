{
 "cells": [
  {
   "cell_type": "code",
   "execution_count": 18,
   "id": "daeb971d",
   "metadata": {},
   "outputs": [],
   "source": [
    "# Encapsulation"
   ]
  },
  {
   "cell_type": "code",
   "execution_count": 21,
   "metadata": {},
   "outputs": [],
   "source": [
    "#Encapsulation\n",
    "\n",
    "class Person :\n",
    "  def __init__(self, name, car):\n",
    "    self.__name = name\n",
    "    self.__car = car\n",
    "\n",
    "\n",
    "  #Getters and Setters - public method to allow the contolled interactions\n",
    "  def getName(self):\n",
    "    return self.__name\n",
    "  def setName(self, name):\n",
    "    self.__name = name\n",
    "  def getCar(self):\n",
    "    return self.__car\n",
    "  def setCar(self, car):\n",
    "    self.__car = car"
   ]
  },
  {
   "cell_type": "code",
   "execution_count": 20,
   "id": "49d3e5d6",
   "metadata": {},
   "outputs": [
    {
     "name": "stdout",
     "output_type": "stream",
     "text": [
      "Vishwa\n",
      "Vishwa Mohan Singh\n"
     ]
    }
   ],
   "source": [
    "per = Person(\"Vishwa\", 99)\n",
    "\n",
    "print(per.getName())\n",
    "per.setName(\"Vishwa Mohan Singh\")\n",
    "print(per.getName())"
   ]
  },
  {
   "cell_type": "code",
   "execution_count": null,
   "metadata": {},
   "outputs": [],
   "source": []
  },
  {
   "cell_type": "code",
   "execution_count": null,
   "id": "71736f0e",
   "metadata": {},
   "outputs": [],
   "source": []
  },
  {
   "cell_type": "code",
   "execution_count": null,
   "id": "dd38971d",
   "metadata": {},
   "outputs": [],
   "source": []
  }
 ],
 "metadata": {
  "kernelspec": {
   "display_name": "Python 3",
   "language": "python",
   "name": "python3"
  },
  "language_info": {
   "codemirror_mode": {
    "name": "ipython",
    "version": 3
   },
   "file_extension": ".py",
   "mimetype": "text/x-python",
   "name": "python",
   "nbconvert_exporter": "python",
   "pygments_lexer": "ipython3",
   "version": "3.13.2"
  }
 },
 "nbformat": 4,
 "nbformat_minor": 5
}
